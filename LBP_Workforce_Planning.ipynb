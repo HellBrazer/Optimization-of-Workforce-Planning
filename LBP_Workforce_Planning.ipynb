{
  "nbformat": 4,
  "nbformat_minor": 0,
  "metadata": {
    "colab": {
      "name": "LBP_Workforce_Planning.ipynb",
      "provenance": [],
      "collapsed_sections": []
    },
    "kernelspec": {
      "name": "python3",
      "display_name": "Python 3"
    },
    "language_info": {
      "name": "python"
    }
  },
  "cells": [
    {
      "cell_type": "code",
      "source": [
        "!pip install pulp --quiet"
      ],
      "metadata": {
        "id": "WbYYVUscvVJH"
      },
      "execution_count": null,
      "outputs": []
    },
    {
      "cell_type": "markdown",
      "source": [
        "# **IMPORTING LIBRARIES**"
      ],
      "metadata": {
        "id": "TaRWbvUsw10x"
      }
    },
    {
      "cell_type": "code",
      "execution_count": null,
      "metadata": {
        "id": "I0nBBosNtY9E"
      },
      "outputs": [],
      "source": [
        "import pandas as pd\n",
        "import pulp as pu\n",
        "import matplotlib.pyplot as plt\n",
        "from itertools import chain, repeat"
      ]
    },
    {
      "cell_type": "markdown",
      "source": [
        "# **DECLARING A HELPER FUNCTION** "
      ],
      "metadata": {
        "id": "rGY9GV1mwclw"
      }
    },
    {
      "cell_type": "code",
      "source": [
        "def ncycles(iterable, n):\n",
        "    \"Returns the sequence elements n times\"\n",
        "    return chain.from_iterable(repeat(tuple(iterable), n))"
      ],
      "metadata": {
        "id": "gB4FSs2WtlmA"
      },
      "execution_count": null,
      "outputs": []
    },
    {
      "cell_type": "markdown",
      "source": [
        "# **PLOT SCENARIO DATA**"
      ],
      "metadata": {
        "id": "C-BiIKb9xFky"
      }
    },
    {
      "cell_type": "code",
      "source": [
        "# Staff needed per Day (FTE)\n",
        "n_staff = [31, 45, 40, 40, 48, 30, 25]\n",
        "days = ['Monday', 'Tuesday', 'Wednesday', 'Thursday', 'Friday', 'Saturday', 'Sunday']\n",
        "\n",
        "# Staff\n",
        "df_staff = pd.DataFrame({'Days': days, 'Staff Demand':n_staff})\n",
        "df_staff[['Days', 'Staff Demand']].plot.bar(x='Days', figsize = (30, 10), fill=True, color='black')\n",
        "plt.title('Workforce Resources Demand by Day')\n",
        "plt.xlabel('Day of the week')\n",
        "plt.ylabel('Number of Workers')\n",
        "plt.show()"
      ],
      "metadata": {
        "colab": {
          "base_uri": "https://localhost:8080/",
          "height": 500
        },
        "id": "H3sWKc26tnbf",
        "outputId": "0da8527d-6165-4f17-e252-5879e41b252d"
      },
      "execution_count": null,
      "outputs": [
        {
          "output_type": "display_data",
          "data": {
            "text/plain": [
              "<Figure size 2160x720 with 1 Axes>"
            ],
            "image/png": "[encoded data removed]"
          },
          "metadata": {
            "needs_background": "light"
          }
        }
      ]
    },
    {
      "cell_type": "markdown",
      "source": [
        "# **OPTIMIZATION: MINIMIZING THE STAFF**\n",
        "\n",
        "**Preparing circular lists and workdays**"
      ],
      "metadata": {
        "id": "hNzwtXtR8fDj"
      }
    },
    {
      "cell_type": "code",
      "source": [
        "# Create circular list of days\n",
        "n_days = [i for i in range(7)]\n",
        "n_days_c = list(ncycles(n_days, 3)) \n",
        "\n",
        "# Working days\n",
        "list_in = [[n_days_c[j] for j in range(i , i + 5)] for i in n_days_c]\n",
        "\n",
        "# Days off\n",
        "list_excl = [[n_days_c[j] for j in range(i + 1, i + 3)] for i in n_days_c]"
      ],
      "metadata": {
        "id": "Q31cQ5pDtnlW"
      },
      "execution_count": null,
      "outputs": []
    },
    {
      "cell_type": "markdown",
      "source": [
        "**Building the model, adding constraints, setting objective and then solving**"
      ],
      "metadata": {
        "id": "EKkJegBq81Rh"
      }
    },
    {
      "cell_type": "code",
      "source": [
        "# The class has been initialized, and x, and days are defined\n",
        "model = pu.LpProblem(\"Minimize Staffing\", pu.LpMinimize)\n",
        "\n",
        "# Create Variables\n",
        "start_days = ['Shift: ' + i for i in days]\n",
        "x = pu.LpVariable.dicts('shift_', n_days, lowBound=0, cat='Integer')\n",
        "\n",
        "# Define Objective\n",
        "model += pu.lpSum([x[i] for i in n_days])\n",
        "\n",
        "# Add constraints\n",
        "for d, l_excl, staff in zip(n_days, list_excl, n_staff):\n",
        "    model += pu.lpSum([x[i] for i in n_days if i not in l_excl]) >= staff\n",
        "\n",
        "# Solve Model\n",
        "model.solve()\n",
        "\n",
        "# The status of the solution is printed to the screen\n",
        "print(\"Status:\", pu.LpStatus[model.status])"
      ],
      "metadata": {
        "colab": {
          "base_uri": "https://localhost:8080/"
        },
        "id": "r4rdkLJwtnnz",
        "outputId": "ebbcdcaa-8854-48c0-c919-8ffde8a3685d"
      },
      "execution_count": null,
      "outputs": [
        {
          "output_type": "stream",
          "name": "stdout",
          "text": [
            "Status: Optimal\n"
          ]
        },
        {
          "output_type": "stream",
          "name": "stderr",
          "text": [
            "/usr/local/lib/python3.7/dist-packages/pulp/pulp.py:1352: UserWarning: Spaces are not permitted in the name. Converted to '_'\n",
            "  warnings.warn(\"Spaces are not permitted in the name. Converted to '_'\")\n"
          ]
        }
      ]
    },
    {
      "cell_type": "markdown",
      "source": [
        "**Solution**"
      ],
      "metadata": {
        "id": "hOPXlMYN9E5h"
      }
    },
    {
      "cell_type": "code",
      "source": [
        "# How many workers per day ?\n",
        "dct_work = {}\n",
        "dico_work = {}\n",
        "for v in model.variables():\n",
        "    dct_work[int(v.name[-1])] = int(v.varValue)\n",
        "    dico_work[v.name] = int(v.varValue)\n",
        "dico_work"
      ],
      "metadata": {
        "colab": {
          "base_uri": "https://localhost:8080/"
        },
        "id": "O9-dKIuXv0Cx",
        "outputId": "cb14fad2-3437-4404-9178-d9437277121e"
      },
      "execution_count": null,
      "outputs": [
        {
          "output_type": "execute_result",
          "data": {
            "text/plain": [
              "{'shift__0': 14,\n",
              " 'shift__1': 14,\n",
              " 'shift__2': 8,\n",
              " 'shift__3': 0,\n",
              " 'shift__4': 13,\n",
              " 'shift__5': 0,\n",
              " 'shift__6': 4}"
            ]
          },
          "metadata": {},
          "execution_count": 67
        }
      ]
    },
    {
      "cell_type": "markdown",
      "source": [
        "**Total number of FTE**"
      ],
      "metadata": {
        "id": "RN1a464191qr"
      }
    },
    {
      "cell_type": "code",
      "source": [
        "# Show workers schedule\n",
        "dict_sch = {}\n",
        "for day in dct_work.keys():\n",
        "    dict_sch[day] = [dct_work[day] if i in list_in[day] else 0 for i in n_days]\n",
        "df_sch = pd.DataFrame(dict_sch).T\n",
        "df_sch.columns = days\n",
        "df_sch.index = start_days\n",
        "# The optimized objective function value is printed to the screen\n",
        "print(\"Total number of Staff = \", pu.value(model.objective))"
      ],
      "metadata": {
        "colab": {
          "base_uri": "https://localhost:8080/"
        },
        "id": "YP5EiYs5v3VY",
        "outputId": "aeefa844-cf92-4cde-bdba-27e7ed4ee760"
      },
      "execution_count": null,
      "outputs": [
        {
          "output_type": "stream",
          "name": "stdout",
          "text": [
            "Total number of Staff =  53.0\n"
          ]
        }
      ]
    },
    {
      "cell_type": "markdown",
      "source": [
        "**Shift-wise presentation**"
      ],
      "metadata": {
        "id": "5j8805N79uYq"
      }
    },
    {
      "cell_type": "code",
      "source": [
        "# Detailed\n",
        "df_sch"
      ],
      "metadata": {
        "colab": {
          "base_uri": "https://localhost:8080/",
          "height": 269
        },
        "id": "2EGXPPOMv39D",
        "outputId": "c72a4615-dada-431d-88d3-54483d7c733f"
      },
      "execution_count": null,
      "outputs": [
        {
          "output_type": "execute_result",
          "data": {
            "text/plain": [
              "                  Monday  Tuesday  Wednesday  Thursday  Friday  Saturday  \\\n",
              "Shift: Monday         14       14         14        14      14         0   \n",
              "Shift: Tuesday         0       14         14        14      14        14   \n",
              "Shift: Wednesday       0        0          8         8       8         8   \n",
              "Shift: Thursday        0        0          0         0       0         0   \n",
              "Shift: Friday         13       13          0         0      13        13   \n",
              "Shift: Saturday        0        0          0         0       0         0   \n",
              "Shift: Sunday          4        4          4         4       0         0   \n",
              "\n",
              "                  Sunday  \n",
              "Shift: Monday          0  \n",
              "Shift: Tuesday         0  \n",
              "Shift: Wednesday       8  \n",
              "Shift: Thursday        0  \n",
              "Shift: Friday         13  \n",
              "Shift: Saturday        0  \n",
              "Shift: Sunday          4  "
            ],
            "text/html": [
              "\n",
              "  <div id=\"df-ae27a552-9803-4cd0-8314-8a164bd243c4\">\n",
              "    <div class=\"colab-df-container\">\n",
              "      <div>\n",
              "<style scoped>\n",
              "    .dataframe tbody tr th:only-of-type {\n",
              "        vertical-align: middle;\n",
              "    }\n",
              "\n",
              "    .dataframe tbody tr th {\n",
              "        vertical-align: top;\n",
              "    }\n",
              "\n",
              "    .dataframe thead th {\n",
              "        text-align: right;\n",
              "    }\n",
              "</style>\n",
              "<table border=\"1\" class=\"dataframe\">\n",
              "  <thead>\n",
              "    <tr style=\"text-align: right;\">\n",
              "      <th></th>\n",
              "      <th>Monday</th>\n",
              "      <th>Tuesday</th>\n",
              "      <th>Wednesday</th>\n",
              "      <th>Thursday</th>\n",
              "      <th>Friday</th>\n",
              "      <th>Saturday</th>\n",
              "      <th>Sunday</th>\n",
              "    </tr>\n",
              "  </thead>\n",
              "  <tbody>\n",
              "    <tr>\n",
              "      <th>Shift: Monday</th>\n",
              "      <td>14</td>\n",
              "      <td>14</td>\n",
              "      <td>14</td>\n",
              "      <td>14</td>\n",
              "      <td>14</td>\n",
              "      <td>0</td>\n",
              "      <td>0</td>\n",
              "    </tr>\n",
              "    <tr>\n",
              "      <th>Shift: Tuesday</th>\n",
              "      <td>0</td>\n",
              "      <td>14</td>\n",
              "      <td>14</td>\n",
              "      <td>14</td>\n",
              "      <td>14</td>\n",
              "      <td>14</td>\n",
              "      <td>0</td>\n",
              "    </tr>\n",
              "    <tr>\n",
              "      <th>Shift: Wednesday</th>\n",
              "      <td>0</td>\n",
              "      <td>0</td>\n",
              "      <td>8</td>\n",
              "      <td>8</td>\n",
              "      <td>8</td>\n",
              "      <td>8</td>\n",
              "      <td>8</td>\n",
              "    </tr>\n",
              "    <tr>\n",
              "      <th>Shift: Thursday</th>\n",
              "      <td>0</td>\n",
              "      <td>0</td>\n",
              "      <td>0</td>\n",
              "      <td>0</td>\n",
              "      <td>0</td>\n",
              "      <td>0</td>\n",
              "      <td>0</td>\n",
              "    </tr>\n",
              "    <tr>\n",
              "      <th>Shift: Friday</th>\n",
              "      <td>13</td>\n",
              "      <td>13</td>\n",
              "      <td>0</td>\n",
              "      <td>0</td>\n",
              "      <td>13</td>\n",
              "      <td>13</td>\n",
              "      <td>13</td>\n",
              "    </tr>\n",
              "    <tr>\n",
              "      <th>Shift: Saturday</th>\n",
              "      <td>0</td>\n",
              "      <td>0</td>\n",
              "      <td>0</td>\n",
              "      <td>0</td>\n",
              "      <td>0</td>\n",
              "      <td>0</td>\n",
              "      <td>0</td>\n",
              "    </tr>\n",
              "    <tr>\n",
              "      <th>Shift: Sunday</th>\n",
              "      <td>4</td>\n",
              "      <td>4</td>\n",
              "      <td>4</td>\n",
              "      <td>4</td>\n",
              "      <td>0</td>\n",
              "      <td>0</td>\n",
              "      <td>4</td>\n",
              "    </tr>\n",
              "  </tbody>\n",
              "</table>\n",
              "</div>\n",
              "      <button class=\"colab-df-convert\" onclick=\"convertToInteractive('df-ae27a552-9803-4cd0-8314-8a164bd243c4')\"\n",
              "              title=\"Convert this dataframe to an interactive table.\"\n",
              "              style=\"display:none;\">\n",
              "        \n",
              "  <svg xmlns=\"http://www.w3.org/2000/svg\" height=\"24px\"viewBox=\"0 0 24 24\"\n",
              "       width=\"24px\">\n",
              "    <path d=\"M0 0h24v24H0V0z\" fill=\"none\"/>\n",
              "    <path d=\"M18.56 5.44l.94 2.06.94-2.06 2.06-.94-2.06-.94-.94-2.06-.94 2.06-2.06.94zm-11 1L8.5 8.5l.94-2.06 2.06-.94-2.06-.94L8.5 2.5l-.94 2.06-2.06.94zm10 10l.94 2.06.94-2.06 2.06-.94-2.06-.94-.94-2.06-.94 2.06-2.06.94z\"/><path d=\"M17.41 7.96l-1.37-1.37c-.4-.4-.92-.59-1.43-.59-.52 0-1.04.2-1.43.59L10.3 9.45l-7.72 7.72c-.78.78-.78 2.05 0 2.83L4 21.41c.39.39.9.59 1.41.59.51 0 1.02-.2 1.41-.59l7.78-7.78 2.81-2.81c.8-.78.8-2.07 0-2.86zM5.41 20L4 18.59l7.72-7.72 1.47 1.35L5.41 20z\"/>\n",
              "  </svg>\n",
              "      </button>\n",
              "      \n",
              "  <style>\n",
              "    .colab-df-container {\n",
              "      display:flex;\n",
              "      flex-wrap:wrap;\n",
              "      gap: 12px;\n",
              "    }\n",
              "\n",
              "    .colab-df-convert {\n",
              "      background-color: #E8F0FE;\n",
              "      border: none;\n",
              "      border-radius: 50%;\n",
              "      cursor: pointer;\n",
              "      display: none;\n",
              "      fill: #1967D2;\n",
              "      height: 32px;\n",
              "      padding: 0 0 0 0;\n",
              "      width: 32px;\n",
              "    }\n",
              "\n",
              "    .colab-df-convert:hover {\n",
              "      background-color: #E2EBFA;\n",
              "      box-shadow: 0px 1px 2px rgba(60, 64, 67, 0.3), 0px 1px 3px 1px rgba(60, 64, 67, 0.15);\n",
              "      fill: #174EA6;\n",
              "    }\n",
              "\n",
              "    [theme=dark] .colab-df-convert {\n",
              "      background-color: #3B4455;\n",
              "      fill: #D2E3FC;\n",
              "    }\n",
              "\n",
              "    [theme=dark] .colab-df-convert:hover {\n",
              "      background-color: #434B5C;\n",
              "      box-shadow: 0px 1px 3px 1px rgba(0, 0, 0, 0.15);\n",
              "      filter: drop-shadow(0px 1px 2px rgba(0, 0, 0, 0.3));\n",
              "      fill: #FFFFFF;\n",
              "    }\n",
              "  </style>\n",
              "\n",
              "      <script>\n",
              "        const buttonEl =\n",
              "          document.querySelector('#df-ae27a552-9803-4cd0-8314-8a164bd243c4 button.colab-df-convert');\n",
              "        buttonEl.style.display =\n",
              "          google.colab.kernel.accessAllowed ? 'block' : 'none';\n",
              "\n",
              "        async function convertToInteractive(key) {\n",
              "          const element = document.querySelector('#df-ae27a552-9803-4cd0-8314-8a164bd243c4');\n",
              "          const dataTable =\n",
              "            await google.colab.kernel.invokeFunction('convertToInteractive',\n",
              "                                                     [key], {});\n",
              "          if (!dataTable) return;\n",
              "\n",
              "          const docLinkHtml = 'Like what you see? Visit the ' +\n",
              "            '<a target=\"_blank\" href=https://colab.research.google.com/notebooks/data_table.ipynb>data table notebook</a>'\n",
              "            + ' to learn more about interactive tables.';\n",
              "          element.innerHTML = '';\n",
              "          dataTable['output_type'] = 'display_data';\n",
              "          await google.colab.output.renderOutput(dataTable, element);\n",
              "          const docLink = document.createElement('div');\n",
              "          docLink.innerHTML = docLinkHtml;\n",
              "          element.appendChild(docLink);\n",
              "        }\n",
              "      </script>\n",
              "    </div>\n",
              "  </div>\n",
              "  "
            ]
          },
          "metadata": {},
          "execution_count": 69
        }
      ]
    },
    {
      "cell_type": "code",
      "source": [
        "# Sum by day\n",
        "df_sch.sum(axis = 0)"
      ],
      "metadata": {
        "colab": {
          "base_uri": "https://localhost:8080/"
        },
        "id": "Zv5OSFUOwCLq",
        "outputId": "ba3e6f00-58a9-4a49-88d9-d183cbf4eb22"
      },
      "execution_count": null,
      "outputs": [
        {
          "output_type": "execute_result",
          "data": {
            "text/plain": [
              "Monday       31\n",
              "Tuesday      45\n",
              "Wednesday    40\n",
              "Thursday     40\n",
              "Friday       49\n",
              "Saturday     35\n",
              "Sunday       25\n",
              "dtype: int64"
            ]
          },
          "metadata": {},
          "execution_count": 70
        }
      ]
    },
    {
      "cell_type": "code",
      "source": [
        "df_supp = df_staff.copy().set_index('Days')\n",
        "df_supp['Staff Supply'] = df_sch.sum(axis = 0)\n",
        "df_supp['Extra_Resources'] = df_supp['Staff Supply'] - df_supp['Staff Demand']\n",
        "df_supp.to_csv('test.csv')"
      ],
      "metadata": {
        "id": "wChlWR3vwCSW"
      },
      "execution_count": null,
      "outputs": []
    },
    {
      "cell_type": "markdown",
      "source": [
        "# **Visualizing Workforce Supply vs Demand**"
      ],
      "metadata": {
        "id": "Ff3bvDg2-vC7"
      }
    },
    {
      "cell_type": "code",
      "source": [
        "# Staff\n",
        "ax = df_supp.plot.bar(y=['Staff Demand', 'Staff Supply'], figsize = (30, 10), fill=True, color=['black', 'red'])\n",
        "df_supp.plot(y=['Extra_Resources'], color=['blue'], secondary_y = True, ax = ax, linewidth = 3)\n",
        "plt.title('Workforce: Demand vs Supply')\n",
        "plt.xlabel('Day of the week')\n",
        "plt.ylabel('Number of Workers')\n",
        "plt.show()"
      ],
      "metadata": {
        "colab": {
          "base_uri": "https://localhost:8080/",
          "height": 461
        },
        "id": "ZnEGhlEqwJEG",
        "outputId": "cf9d026a-3b9b-4706-f9d2-ac42c9884a3b"
      },
      "execution_count": null,
      "outputs": [
        {
          "output_type": "display_data",
          "data": {
            "text/plain": [
              "<Figure size 2160x720 with 2 Axes>"
            ],
            "image/png": "[encoded data removed]"
          },
          "metadata": {
            "needs_background": "light"
          }
        }
      ]
    }
  ]
}